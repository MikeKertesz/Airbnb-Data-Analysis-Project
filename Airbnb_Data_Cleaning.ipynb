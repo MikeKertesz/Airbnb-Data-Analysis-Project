{
  "nbformat": 4,
  "nbformat_minor": 0,
  "metadata": {
    "colab": {
      "provenance": [],
      "authorship_tag": "ABX9TyN+Aj5bam8HdOQJJ9XbxTUv",
      "include_colab_link": true
    },
    "kernelspec": {
      "name": "python3",
      "display_name": "Python 3"
    },
    "language_info": {
      "name": "python"
    }
  },
  "cells": [
    {
      "cell_type": "markdown",
      "metadata": {
        "id": "view-in-github",
        "colab_type": "text"
      },
      "source": [
        "<a href=\"https://colab.research.google.com/github/MikeKertesz/Airbnb-Data-Analysis-Project/blob/main/Airbnb_Data_Cleaning.ipynb\" target=\"_parent\"><img src=\"https://colab.research.google.com/assets/colab-badge.svg\" alt=\"Open In Colab\"/></a>"
      ]
    },
    {
      "cell_type": "code",
      "execution_count": 2,
      "metadata": {
        "id": "H51fG-P7jaNy"
      },
      "outputs": [],
      "source": [
        "import pandas as pd\n",
        "import numpy as np\n",
        "\n",
        "# Example with listings.csv\n",
        "listings = pd.read_csv(\"listings.csv\", low_memory=False)\n",
        "calendar = pd.read_csv(\"calendar.csv.gz\", compression=\"gzip\")\n",
        "reviews = pd.read_csv(\"reviews.csv\", low_memory=False)\n",
        "neighbourhoods = pd.read_csv(\"neighbourhoods.csv\")"
      ]
    },
    {
      "cell_type": "code",
      "source": [
        "listings.info()\n",
        "listings.isna().sum()\n"
      ],
      "metadata": {
        "colab": {
          "base_uri": "https://localhost:8080/",
          "height": 1000
        },
        "id": "P-jbWZ4OktrB",
        "outputId": "44682d86-eb8b-46ad-8cf8-3ac9f1fe3645"
      },
      "execution_count": 4,
      "outputs": [
        {
          "output_type": "stream",
          "name": "stdout",
          "text": [
            "<class 'pandas.core.frame.DataFrame'>\n",
            "RangeIndex: 18927 entries, 0 to 18926\n",
            "Data columns (total 18 columns):\n",
            " #   Column                          Non-Null Count  Dtype  \n",
            "---  ------                          --------------  -----  \n",
            " 0   id                              18927 non-null  int64  \n",
            " 1   name                            18927 non-null  object \n",
            " 2   host_id                         18927 non-null  int64  \n",
            " 3   host_name                       18924 non-null  object \n",
            " 4   neighbourhood_group             18927 non-null  object \n",
            " 5   neighbourhood                   18927 non-null  object \n",
            " 6   latitude                        18927 non-null  float64\n",
            " 7   longitude                       18927 non-null  float64\n",
            " 8   room_type                       18927 non-null  object \n",
            " 9   price                           14913 non-null  float64\n",
            " 10  minimum_nights                  18927 non-null  int64  \n",
            " 11  number_of_reviews               18927 non-null  int64  \n",
            " 12  last_review                     13929 non-null  object \n",
            " 13  reviews_per_month               13929 non-null  float64\n",
            " 14  calculated_host_listings_count  18927 non-null  int64  \n",
            " 15  availability_365                18927 non-null  int64  \n",
            " 16  number_of_reviews_ltm           18927 non-null  int64  \n",
            " 17  license                         12598 non-null  object \n",
            "dtypes: float64(4), int64(7), object(7)\n",
            "memory usage: 2.6+ MB\n"
          ]
        },
        {
          "output_type": "execute_result",
          "data": {
            "text/plain": [
              "id                                   0\n",
              "name                                 0\n",
              "host_id                              0\n",
              "host_name                            3\n",
              "neighbourhood_group                  0\n",
              "neighbourhood                        0\n",
              "latitude                             0\n",
              "longitude                            0\n",
              "room_type                            0\n",
              "price                             4014\n",
              "minimum_nights                       0\n",
              "number_of_reviews                    0\n",
              "last_review                       4998\n",
              "reviews_per_month                 4998\n",
              "calculated_host_listings_count       0\n",
              "availability_365                     0\n",
              "number_of_reviews_ltm                0\n",
              "license                           6329\n",
              "dtype: int64"
            ],
            "text/html": [
              "<div>\n",
              "<style scoped>\n",
              "    .dataframe tbody tr th:only-of-type {\n",
              "        vertical-align: middle;\n",
              "    }\n",
              "\n",
              "    .dataframe tbody tr th {\n",
              "        vertical-align: top;\n",
              "    }\n",
              "\n",
              "    .dataframe thead th {\n",
              "        text-align: right;\n",
              "    }\n",
              "</style>\n",
              "<table border=\"1\" class=\"dataframe\">\n",
              "  <thead>\n",
              "    <tr style=\"text-align: right;\">\n",
              "      <th></th>\n",
              "      <th>0</th>\n",
              "    </tr>\n",
              "  </thead>\n",
              "  <tbody>\n",
              "    <tr>\n",
              "      <th>id</th>\n",
              "      <td>0</td>\n",
              "    </tr>\n",
              "    <tr>\n",
              "      <th>name</th>\n",
              "      <td>0</td>\n",
              "    </tr>\n",
              "    <tr>\n",
              "      <th>host_id</th>\n",
              "      <td>0</td>\n",
              "    </tr>\n",
              "    <tr>\n",
              "      <th>host_name</th>\n",
              "      <td>3</td>\n",
              "    </tr>\n",
              "    <tr>\n",
              "      <th>neighbourhood_group</th>\n",
              "      <td>0</td>\n",
              "    </tr>\n",
              "    <tr>\n",
              "      <th>neighbourhood</th>\n",
              "      <td>0</td>\n",
              "    </tr>\n",
              "    <tr>\n",
              "      <th>latitude</th>\n",
              "      <td>0</td>\n",
              "    </tr>\n",
              "    <tr>\n",
              "      <th>longitude</th>\n",
              "      <td>0</td>\n",
              "    </tr>\n",
              "    <tr>\n",
              "      <th>room_type</th>\n",
              "      <td>0</td>\n",
              "    </tr>\n",
              "    <tr>\n",
              "      <th>price</th>\n",
              "      <td>4014</td>\n",
              "    </tr>\n",
              "    <tr>\n",
              "      <th>minimum_nights</th>\n",
              "      <td>0</td>\n",
              "    </tr>\n",
              "    <tr>\n",
              "      <th>number_of_reviews</th>\n",
              "      <td>0</td>\n",
              "    </tr>\n",
              "    <tr>\n",
              "      <th>last_review</th>\n",
              "      <td>4998</td>\n",
              "    </tr>\n",
              "    <tr>\n",
              "      <th>reviews_per_month</th>\n",
              "      <td>4998</td>\n",
              "    </tr>\n",
              "    <tr>\n",
              "      <th>calculated_host_listings_count</th>\n",
              "      <td>0</td>\n",
              "    </tr>\n",
              "    <tr>\n",
              "      <th>availability_365</th>\n",
              "      <td>0</td>\n",
              "    </tr>\n",
              "    <tr>\n",
              "      <th>number_of_reviews_ltm</th>\n",
              "      <td>0</td>\n",
              "    </tr>\n",
              "    <tr>\n",
              "      <th>license</th>\n",
              "      <td>6329</td>\n",
              "    </tr>\n",
              "  </tbody>\n",
              "</table>\n",
              "</div><br><label><b>dtype:</b> int64</label>"
            ]
          },
          "metadata": {},
          "execution_count": 4
        }
      ]
    },
    {
      "cell_type": "code",
      "source": [
        "listings_clean = listings.dropna(subset=['price'])"
      ],
      "metadata": {
        "id": "o0X6bbJllVHt"
      },
      "execution_count": 8,
      "outputs": []
    },
    {
      "cell_type": "code",
      "source": [
        "listings_clean = listings_clean.dropna(subset=['host_name'])"
      ],
      "metadata": {
        "id": "dyne3inXmyWS"
      },
      "execution_count": 10,
      "outputs": []
    },
    {
      "cell_type": "code",
      "source": [
        "listings_clean['reviews_per_month'] = listings_clean['reviews_per_month'].fillna(0)"
      ],
      "metadata": {
        "id": "_jKQ-fhWoW3I"
      },
      "execution_count": 12,
      "outputs": []
    },
    {
      "cell_type": "code",
      "source": [
        "listings_clean = listings_clean.drop(columns=['license'])"
      ],
      "metadata": {
        "id": "DvlIvIbtosDU"
      },
      "execution_count": 14,
      "outputs": []
    },
    {
      "cell_type": "code",
      "source": [
        "listings_clean['last_review'] = listings_clean['last_review'].fillna('No review')"
      ],
      "metadata": {
        "id": "h4GtyApeot53"
      },
      "execution_count": 15,
      "outputs": []
    },
    {
      "cell_type": "code",
      "source": [
        "listings_clean.info()\n",
        "listings_clean.isna().sum()"
      ],
      "metadata": {
        "colab": {
          "base_uri": "https://localhost:8080/",
          "height": 1000
        },
        "id": "pUKYIRpFl43M",
        "outputId": "8a3bfd80-0507-4801-d364-652b65f6e5a2"
      },
      "execution_count": 16,
      "outputs": [
        {
          "output_type": "stream",
          "name": "stdout",
          "text": [
            "<class 'pandas.core.frame.DataFrame'>\n",
            "Index: 14912 entries, 0 to 18926\n",
            "Data columns (total 17 columns):\n",
            " #   Column                          Non-Null Count  Dtype  \n",
            "---  ------                          --------------  -----  \n",
            " 0   id                              14912 non-null  int64  \n",
            " 1   name                            14912 non-null  object \n",
            " 2   host_id                         14912 non-null  int64  \n",
            " 3   host_name                       14912 non-null  object \n",
            " 4   neighbourhood_group             14912 non-null  object \n",
            " 5   neighbourhood                   14912 non-null  object \n",
            " 6   latitude                        14912 non-null  float64\n",
            " 7   longitude                       14912 non-null  float64\n",
            " 8   room_type                       14912 non-null  object \n",
            " 9   price                           14912 non-null  float64\n",
            " 10  minimum_nights                  14912 non-null  int64  \n",
            " 11  number_of_reviews               14912 non-null  int64  \n",
            " 12  last_review                     14912 non-null  object \n",
            " 13  reviews_per_month               14912 non-null  float64\n",
            " 14  calculated_host_listings_count  14912 non-null  int64  \n",
            " 15  availability_365                14912 non-null  int64  \n",
            " 16  number_of_reviews_ltm           14912 non-null  int64  \n",
            "dtypes: float64(4), int64(7), object(6)\n",
            "memory usage: 2.0+ MB\n"
          ]
        },
        {
          "output_type": "execute_result",
          "data": {
            "text/plain": [
              "id                                0\n",
              "name                              0\n",
              "host_id                           0\n",
              "host_name                         0\n",
              "neighbourhood_group               0\n",
              "neighbourhood                     0\n",
              "latitude                          0\n",
              "longitude                         0\n",
              "room_type                         0\n",
              "price                             0\n",
              "minimum_nights                    0\n",
              "number_of_reviews                 0\n",
              "last_review                       0\n",
              "reviews_per_month                 0\n",
              "calculated_host_listings_count    0\n",
              "availability_365                  0\n",
              "number_of_reviews_ltm             0\n",
              "dtype: int64"
            ],
            "text/html": [
              "<div>\n",
              "<style scoped>\n",
              "    .dataframe tbody tr th:only-of-type {\n",
              "        vertical-align: middle;\n",
              "    }\n",
              "\n",
              "    .dataframe tbody tr th {\n",
              "        vertical-align: top;\n",
              "    }\n",
              "\n",
              "    .dataframe thead th {\n",
              "        text-align: right;\n",
              "    }\n",
              "</style>\n",
              "<table border=\"1\" class=\"dataframe\">\n",
              "  <thead>\n",
              "    <tr style=\"text-align: right;\">\n",
              "      <th></th>\n",
              "      <th>0</th>\n",
              "    </tr>\n",
              "  </thead>\n",
              "  <tbody>\n",
              "    <tr>\n",
              "      <th>id</th>\n",
              "      <td>0</td>\n",
              "    </tr>\n",
              "    <tr>\n",
              "      <th>name</th>\n",
              "      <td>0</td>\n",
              "    </tr>\n",
              "    <tr>\n",
              "      <th>host_id</th>\n",
              "      <td>0</td>\n",
              "    </tr>\n",
              "    <tr>\n",
              "      <th>host_name</th>\n",
              "      <td>0</td>\n",
              "    </tr>\n",
              "    <tr>\n",
              "      <th>neighbourhood_group</th>\n",
              "      <td>0</td>\n",
              "    </tr>\n",
              "    <tr>\n",
              "      <th>neighbourhood</th>\n",
              "      <td>0</td>\n",
              "    </tr>\n",
              "    <tr>\n",
              "      <th>latitude</th>\n",
              "      <td>0</td>\n",
              "    </tr>\n",
              "    <tr>\n",
              "      <th>longitude</th>\n",
              "      <td>0</td>\n",
              "    </tr>\n",
              "    <tr>\n",
              "      <th>room_type</th>\n",
              "      <td>0</td>\n",
              "    </tr>\n",
              "    <tr>\n",
              "      <th>price</th>\n",
              "      <td>0</td>\n",
              "    </tr>\n",
              "    <tr>\n",
              "      <th>minimum_nights</th>\n",
              "      <td>0</td>\n",
              "    </tr>\n",
              "    <tr>\n",
              "      <th>number_of_reviews</th>\n",
              "      <td>0</td>\n",
              "    </tr>\n",
              "    <tr>\n",
              "      <th>last_review</th>\n",
              "      <td>0</td>\n",
              "    </tr>\n",
              "    <tr>\n",
              "      <th>reviews_per_month</th>\n",
              "      <td>0</td>\n",
              "    </tr>\n",
              "    <tr>\n",
              "      <th>calculated_host_listings_count</th>\n",
              "      <td>0</td>\n",
              "    </tr>\n",
              "    <tr>\n",
              "      <th>availability_365</th>\n",
              "      <td>0</td>\n",
              "    </tr>\n",
              "    <tr>\n",
              "      <th>number_of_reviews_ltm</th>\n",
              "      <td>0</td>\n",
              "    </tr>\n",
              "  </tbody>\n",
              "</table>\n",
              "</div><br><label><b>dtype:</b> int64</label>"
            ]
          },
          "metadata": {},
          "execution_count": 16
        }
      ]
    },
    {
      "cell_type": "code",
      "source": [
        "calendar.info()\n",
        "calendar.isna().sum()"
      ],
      "metadata": {
        "colab": {
          "base_uri": "https://localhost:8080/",
          "height": 547
        },
        "id": "3yTp0c2XpB8l",
        "outputId": "96bff945-2929-4850-de79-a36fbe023e5a"
      },
      "execution_count": 17,
      "outputs": [
        {
          "output_type": "stream",
          "name": "stdout",
          "text": [
            "<class 'pandas.core.frame.DataFrame'>\n",
            "RangeIndex: 2303883 entries, 0 to 2303882\n",
            "Data columns (total 7 columns):\n",
            " #   Column          Dtype  \n",
            "---  ------          -----  \n",
            " 0   listing_id      int64  \n",
            " 1   date            object \n",
            " 2   available       object \n",
            " 3   price           float64\n",
            " 4   adjusted_price  float64\n",
            " 5   minimum_nights  int64  \n",
            " 6   maximum_nights  int64  \n",
            "dtypes: float64(2), int64(3), object(2)\n",
            "memory usage: 123.0+ MB\n"
          ]
        },
        {
          "output_type": "execute_result",
          "data": {
            "text/plain": [
              "listing_id              0\n",
              "date                    0\n",
              "available               0\n",
              "price             2303883\n",
              "adjusted_price    2303883\n",
              "minimum_nights          0\n",
              "maximum_nights          0\n",
              "dtype: int64"
            ],
            "text/html": [
              "<div>\n",
              "<style scoped>\n",
              "    .dataframe tbody tr th:only-of-type {\n",
              "        vertical-align: middle;\n",
              "    }\n",
              "\n",
              "    .dataframe tbody tr th {\n",
              "        vertical-align: top;\n",
              "    }\n",
              "\n",
              "    .dataframe thead th {\n",
              "        text-align: right;\n",
              "    }\n",
              "</style>\n",
              "<table border=\"1\" class=\"dataframe\">\n",
              "  <thead>\n",
              "    <tr style=\"text-align: right;\">\n",
              "      <th></th>\n",
              "      <th>0</th>\n",
              "    </tr>\n",
              "  </thead>\n",
              "  <tbody>\n",
              "    <tr>\n",
              "      <th>listing_id</th>\n",
              "      <td>0</td>\n",
              "    </tr>\n",
              "    <tr>\n",
              "      <th>date</th>\n",
              "      <td>0</td>\n",
              "    </tr>\n",
              "    <tr>\n",
              "      <th>available</th>\n",
              "      <td>0</td>\n",
              "    </tr>\n",
              "    <tr>\n",
              "      <th>price</th>\n",
              "      <td>2303883</td>\n",
              "    </tr>\n",
              "    <tr>\n",
              "      <th>adjusted_price</th>\n",
              "      <td>2303883</td>\n",
              "    </tr>\n",
              "    <tr>\n",
              "      <th>minimum_nights</th>\n",
              "      <td>0</td>\n",
              "    </tr>\n",
              "    <tr>\n",
              "      <th>maximum_nights</th>\n",
              "      <td>0</td>\n",
              "    </tr>\n",
              "  </tbody>\n",
              "</table>\n",
              "</div><br><label><b>dtype:</b> int64</label>"
            ]
          },
          "metadata": {},
          "execution_count": 17
        }
      ]
    },
    {
      "cell_type": "code",
      "source": [
        "calendar_clean = calendar.drop(columns=['price','adjusted_price'])"
      ],
      "metadata": {
        "id": "DV6QlADSpUUv"
      },
      "execution_count": 25,
      "outputs": []
    },
    {
      "cell_type": "code",
      "source": [
        "calendar_clean.info()\n",
        "calendar_clean.isna().sum()"
      ],
      "metadata": {
        "colab": {
          "base_uri": "https://localhost:8080/",
          "height": 449
        },
        "id": "1qwMgAYxpZPd",
        "outputId": "1540f628-4abc-4607-b48d-7ca83f3a967d"
      },
      "execution_count": 26,
      "outputs": [
        {
          "output_type": "stream",
          "name": "stdout",
          "text": [
            "<class 'pandas.core.frame.DataFrame'>\n",
            "RangeIndex: 2303883 entries, 0 to 2303882\n",
            "Data columns (total 5 columns):\n",
            " #   Column          Dtype \n",
            "---  ------          ----- \n",
            " 0   listing_id      int64 \n",
            " 1   date            object\n",
            " 2   available       object\n",
            " 3   minimum_nights  int64 \n",
            " 4   maximum_nights  int64 \n",
            "dtypes: int64(3), object(2)\n",
            "memory usage: 87.9+ MB\n"
          ]
        },
        {
          "output_type": "execute_result",
          "data": {
            "text/plain": [
              "listing_id        0\n",
              "date              0\n",
              "available         0\n",
              "minimum_nights    0\n",
              "maximum_nights    0\n",
              "dtype: int64"
            ],
            "text/html": [
              "<div>\n",
              "<style scoped>\n",
              "    .dataframe tbody tr th:only-of-type {\n",
              "        vertical-align: middle;\n",
              "    }\n",
              "\n",
              "    .dataframe tbody tr th {\n",
              "        vertical-align: top;\n",
              "    }\n",
              "\n",
              "    .dataframe thead th {\n",
              "        text-align: right;\n",
              "    }\n",
              "</style>\n",
              "<table border=\"1\" class=\"dataframe\">\n",
              "  <thead>\n",
              "    <tr style=\"text-align: right;\">\n",
              "      <th></th>\n",
              "      <th>0</th>\n",
              "    </tr>\n",
              "  </thead>\n",
              "  <tbody>\n",
              "    <tr>\n",
              "      <th>listing_id</th>\n",
              "      <td>0</td>\n",
              "    </tr>\n",
              "    <tr>\n",
              "      <th>date</th>\n",
              "      <td>0</td>\n",
              "    </tr>\n",
              "    <tr>\n",
              "      <th>available</th>\n",
              "      <td>0</td>\n",
              "    </tr>\n",
              "    <tr>\n",
              "      <th>minimum_nights</th>\n",
              "      <td>0</td>\n",
              "    </tr>\n",
              "    <tr>\n",
              "      <th>maximum_nights</th>\n",
              "      <td>0</td>\n",
              "    </tr>\n",
              "  </tbody>\n",
              "</table>\n",
              "</div><br><label><b>dtype:</b> int64</label>"
            ]
          },
          "metadata": {},
          "execution_count": 26
        }
      ]
    },
    {
      "cell_type": "code",
      "source": [
        "reviews.info()\n",
        "reviews.isna().sum()"
      ],
      "metadata": {
        "colab": {
          "base_uri": "https://localhost:8080/",
          "height": 303
        },
        "id": "dk6orxQAqEzO",
        "outputId": "4ef67330-eaa2-4026-fe44-00efc0542121"
      },
      "execution_count": 27,
      "outputs": [
        {
          "output_type": "stream",
          "name": "stdout",
          "text": [
            "<class 'pandas.core.frame.DataFrame'>\n",
            "RangeIndex: 973243 entries, 0 to 973242\n",
            "Data columns (total 2 columns):\n",
            " #   Column      Non-Null Count   Dtype \n",
            "---  ------      --------------   ----- \n",
            " 0   listing_id  973243 non-null  int64 \n",
            " 1   date        973243 non-null  object\n",
            "dtypes: int64(1), object(1)\n",
            "memory usage: 14.9+ MB\n"
          ]
        },
        {
          "output_type": "execute_result",
          "data": {
            "text/plain": [
              "listing_id    0\n",
              "date          0\n",
              "dtype: int64"
            ],
            "text/html": [
              "<div>\n",
              "<style scoped>\n",
              "    .dataframe tbody tr th:only-of-type {\n",
              "        vertical-align: middle;\n",
              "    }\n",
              "\n",
              "    .dataframe tbody tr th {\n",
              "        vertical-align: top;\n",
              "    }\n",
              "\n",
              "    .dataframe thead th {\n",
              "        text-align: right;\n",
              "    }\n",
              "</style>\n",
              "<table border=\"1\" class=\"dataframe\">\n",
              "  <thead>\n",
              "    <tr style=\"text-align: right;\">\n",
              "      <th></th>\n",
              "      <th>0</th>\n",
              "    </tr>\n",
              "  </thead>\n",
              "  <tbody>\n",
              "    <tr>\n",
              "      <th>listing_id</th>\n",
              "      <td>0</td>\n",
              "    </tr>\n",
              "    <tr>\n",
              "      <th>date</th>\n",
              "      <td>0</td>\n",
              "    </tr>\n",
              "  </tbody>\n",
              "</table>\n",
              "</div><br><label><b>dtype:</b> int64</label>"
            ]
          },
          "metadata": {},
          "execution_count": 27
        }
      ]
    },
    {
      "cell_type": "code",
      "source": [
        "neighbourhoods.info()"
      ],
      "metadata": {
        "colab": {
          "base_uri": "https://localhost:8080/"
        },
        "id": "2G7mjFbgqUit",
        "outputId": "cc0aa548-3c27-4055-8c72-d673b32d80b5"
      },
      "execution_count": 28,
      "outputs": [
        {
          "output_type": "stream",
          "name": "stdout",
          "text": [
            "<class 'pandas.core.frame.DataFrame'>\n",
            "RangeIndex: 73 entries, 0 to 72\n",
            "Data columns (total 2 columns):\n",
            " #   Column               Non-Null Count  Dtype \n",
            "---  ------               --------------  ----- \n",
            " 0   neighbourhood_group  73 non-null     object\n",
            " 1   neighbourhood        73 non-null     object\n",
            "dtypes: object(2)\n",
            "memory usage: 1.3+ KB\n"
          ]
        }
      ]
    },
    {
      "cell_type": "code",
      "source": [
        "listings_clean.to_csv(\"clean_listings.csv\", index=False)\n",
        "calendar_clean.to_csv(\"clean_calendar.csv\", index=False)"
      ],
      "metadata": {
        "id": "uTiCJyudqcsl"
      },
      "execution_count": 32,
      "outputs": []
    }
  ]
}